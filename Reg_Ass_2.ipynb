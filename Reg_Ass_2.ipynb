{
 "cells": [
  {
   "cell_type": "markdown",
   "id": "bf115b22",
   "metadata": {},
   "source": [
    "# question 1"
   ]
  },
  {
   "cell_type": "code",
   "execution_count": 1,
   "id": "2458e013",
   "metadata": {},
   "outputs": [],
   "source": [
    "\n",
    "# R-squared in Linear Regression\n",
    "# R-squared (denoted as R²) is a statistical measure used in linear regression to assess the goodness of fit of the model. It represents the proportion of the variance in the dependent variable that can be explained by the independent variable(s) in the model.\n",
    "\n",
    "# Here's a breakdown of the concept:\n",
    "\n",
    "# Interpretation:\n",
    "\n",
    "# An R² value of 1 indicates a perfect fit, meaning the model explains all the variability in the dependent variable.\n",
    "# An R² value of 0 indicates no fit, meaning the model does not explain any of the variability in the dependent variable.\n",
    "# Values between 0 and 1 represent the proportion of variance explained, with higher values indicating better fit.\n",
    "# Calculation:\n",
    "\n",
    "# R² is calculated using the following formula:\n",
    "# R² = 1 - (SSE / SST)\n",
    "# where:\n",
    "# * SSE (Sum of Squared Errors): Represents the total squared difference between the predicted values and the actual values of the dependent variable.\n",
    "# * SST (Total Sum of Squares): Represents the total squared difference between the actual values of the dependent variable and the mean of the dependent variable.\n",
    "\n",
    "# Limitations:\n",
    "\n",
    "# While R² is a valuable metric, it's important to remember that it only tells you about the proportion of variance explained, not the direction of the relationship between the variables.\n",
    "# Additionally, R² can be misleading when comparing models with different numbers of independent variables. A model with more variables will tend to have a higher R², even if the additional variables don't actually improve the explanatory power of the model."
   ]
  },
  {
   "cell_type": "markdown",
   "id": "29161f70",
   "metadata": {},
   "source": [
    "# question 2"
   ]
  },
  {
   "cell_type": "code",
   "execution_count": 2,
   "id": "420133d7",
   "metadata": {},
   "outputs": [],
   "source": [
    "# Definition: Adjusted R-squared is a modified version of R-squared that takes the number of independent variables (predictors) in the regression model into account. It provides a more accurate measure of goodness of fit by penalizing the inclusion of unnecessary variables.\n",
    "\n"
   ]
  },
  {
   "cell_type": "markdown",
   "id": "4a55b9ac",
   "metadata": {},
   "source": [
    "# question 3"
   ]
  },
  {
   "cell_type": "code",
   "execution_count": 3,
   "id": "816aaea2",
   "metadata": {},
   "outputs": [],
   "source": [
    "#  Comparing Models with Different Numbers of Variables:\n",
    "\n",
    "# Regular R-squared tends to increase automatically as you add more variables to your model, even if those variables don't genuinely improve the model's fit.\n",
    "# Adjusted R-squared penalizes the model for complexity, making it more suitable for comparing models with varying numbers of predictors. It allows you to assess which model explains the data better while considering the trade-off between explanatory power and model complexity.\n",
    "# 2. Identifying Irrelevant Variables:\n",
    "\n",
    "# If you add a variable to your model, and the adjusted R-squared decreases compared to the model without that variable, it indicates that the added variable might be irrelevant or even misleading. This helps you avoid overfitting your model by including unnecessary variables.\n",
    "# 3. Evaluating Model Performance:\n",
    "\n",
    "# While R-squared tells you the proportion of variance explained, it doesn't necessarily indicate how well the model predicts new data or how reliable the relationships within the model are.\n",
    "# Using adjusted R-squared alongside other metrics like p-values and residual plots helps you get a more comprehensive picture of the model's performance, including its potential for overfitting and the significance of its findings.\n",
    "# In summary, adjusted R-squared is more appropriate whenever you need to:\n",
    "\n",
    "# Compare models with different numbers of variables.\n",
    "# Evaluate the effect of adding new variables on the model's ability to explain the data (without overfitting).\n",
    "# Get a more nuanced understanding of the model's performance alongside other metrics like p-values and residual plots."
   ]
  },
  {
   "cell_type": "markdown",
   "id": "e198c620",
   "metadata": {},
   "source": [
    "# question 4"
   ]
  },
  {
   "cell_type": "code",
   "execution_count": 4,
   "id": "e8240da5",
   "metadata": {},
   "outputs": [],
   "source": [
    "# In regression analysis, RMSE (Root Mean Squared Error), MSE (Mean Squared Error), and MAE (Mean Absolute Error) are all metrics used to evaluate the difference between the predicted values and the actual values of the dependent variable. They provide insights into how well your model fits the data\n",
    "# Use MSE or RMSE if:\n",
    "\n",
    "# You want to penalize larger errors more heavily.\n",
    "# The data distribution is relatively normal without significant outliers.\n",
    "# Use MAE if:\n",
    "\n",
    "# You are concerned about the impact of outliers.\n",
    "# The absolute magnitude of the errors is more important than the squared difference."
   ]
  },
  {
   "cell_type": "markdown",
   "id": "a92b047b",
   "metadata": {},
   "source": [
    "# question 5"
   ]
  },
  {
   "cell_type": "code",
   "execution_count": null,
   "id": "b09c1b36",
   "metadata": {},
   "outputs": [],
   "source": []
  }
 ],
 "metadata": {
  "kernelspec": {
   "display_name": "Python 3 (ipykernel)",
   "language": "python",
   "name": "python3"
  },
  "language_info": {
   "codemirror_mode": {
    "name": "ipython",
    "version": 3
   },
   "file_extension": ".py",
   "mimetype": "text/x-python",
   "name": "python",
   "nbconvert_exporter": "python",
   "pygments_lexer": "ipython3",
   "version": "3.11.5"
  }
 },
 "nbformat": 4,
 "nbformat_minor": 5
}
